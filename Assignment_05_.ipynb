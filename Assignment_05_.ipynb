{
  "nbformat": 4,
  "nbformat_minor": 0,
  "metadata": {
    "colab": {
      "provenance": []
    },
    "kernelspec": {
      "name": "python3",
      "display_name": "Python 3"
    },
    "language_info": {
      "name": "python"
    }
  },
  "cells": [
    {
      "cell_type": "markdown",
      "source": [
        "# **생일이 느린 순서로 10명의 친구를 출력하는 코드**"
      ],
      "metadata": {
        "id": "G150MH5FZf3r"
      }
    },
    {
      "cell_type": "code",
      "execution_count": 13,
      "metadata": {
        "colab": {
          "base_uri": "https://localhost:8080/",
          "height": 315
        },
        "id": "KoglqDQFD3GM",
        "outputId": "1348f695-f005-483d-ba9d-0cfde56f44f5"
      },
      "outputs": [
        {
          "output_type": "display_data",
          "data": {
            "text/plain": [
              "<IPython.core.display.HTML object>"
            ],
            "text/html": [
              "\n",
              "     <input type=\"file\" id=\"files-e25a3a38-fa6d-4c2e-aeaa-d84892b6ae06\" name=\"files[]\" multiple disabled\n",
              "        style=\"border:none\" />\n",
              "     <output id=\"result-e25a3a38-fa6d-4c2e-aeaa-d84892b6ae06\">\n",
              "      Upload widget is only available when the cell has been executed in the\n",
              "      current browser session. Please rerun this cell to enable.\n",
              "      </output>\n",
              "      <script>// Copyright 2017 Google LLC\n",
              "//\n",
              "// Licensed under the Apache License, Version 2.0 (the \"License\");\n",
              "// you may not use this file except in compliance with the License.\n",
              "// You may obtain a copy of the License at\n",
              "//\n",
              "//      http://www.apache.org/licenses/LICENSE-2.0\n",
              "//\n",
              "// Unless required by applicable law or agreed to in writing, software\n",
              "// distributed under the License is distributed on an \"AS IS\" BASIS,\n",
              "// WITHOUT WARRANTIES OR CONDITIONS OF ANY KIND, either express or implied.\n",
              "// See the License for the specific language governing permissions and\n",
              "// limitations under the License.\n",
              "\n",
              "/**\n",
              " * @fileoverview Helpers for google.colab Python module.\n",
              " */\n",
              "(function(scope) {\n",
              "function span(text, styleAttributes = {}) {\n",
              "  const element = document.createElement('span');\n",
              "  element.textContent = text;\n",
              "  for (const key of Object.keys(styleAttributes)) {\n",
              "    element.style[key] = styleAttributes[key];\n",
              "  }\n",
              "  return element;\n",
              "}\n",
              "\n",
              "// Max number of bytes which will be uploaded at a time.\n",
              "const MAX_PAYLOAD_SIZE = 100 * 1024;\n",
              "\n",
              "function _uploadFiles(inputId, outputId) {\n",
              "  const steps = uploadFilesStep(inputId, outputId);\n",
              "  const outputElement = document.getElementById(outputId);\n",
              "  // Cache steps on the outputElement to make it available for the next call\n",
              "  // to uploadFilesContinue from Python.\n",
              "  outputElement.steps = steps;\n",
              "\n",
              "  return _uploadFilesContinue(outputId);\n",
              "}\n",
              "\n",
              "// This is roughly an async generator (not supported in the browser yet),\n",
              "// where there are multiple asynchronous steps and the Python side is going\n",
              "// to poll for completion of each step.\n",
              "// This uses a Promise to block the python side on completion of each step,\n",
              "// then passes the result of the previous step as the input to the next step.\n",
              "function _uploadFilesContinue(outputId) {\n",
              "  const outputElement = document.getElementById(outputId);\n",
              "  const steps = outputElement.steps;\n",
              "\n",
              "  const next = steps.next(outputElement.lastPromiseValue);\n",
              "  return Promise.resolve(next.value.promise).then((value) => {\n",
              "    // Cache the last promise value to make it available to the next\n",
              "    // step of the generator.\n",
              "    outputElement.lastPromiseValue = value;\n",
              "    return next.value.response;\n",
              "  });\n",
              "}\n",
              "\n",
              "/**\n",
              " * Generator function which is called between each async step of the upload\n",
              " * process.\n",
              " * @param {string} inputId Element ID of the input file picker element.\n",
              " * @param {string} outputId Element ID of the output display.\n",
              " * @return {!Iterable<!Object>} Iterable of next steps.\n",
              " */\n",
              "function* uploadFilesStep(inputId, outputId) {\n",
              "  const inputElement = document.getElementById(inputId);\n",
              "  inputElement.disabled = false;\n",
              "\n",
              "  const outputElement = document.getElementById(outputId);\n",
              "  outputElement.innerHTML = '';\n",
              "\n",
              "  const pickedPromise = new Promise((resolve) => {\n",
              "    inputElement.addEventListener('change', (e) => {\n",
              "      resolve(e.target.files);\n",
              "    });\n",
              "  });\n",
              "\n",
              "  const cancel = document.createElement('button');\n",
              "  inputElement.parentElement.appendChild(cancel);\n",
              "  cancel.textContent = 'Cancel upload';\n",
              "  const cancelPromise = new Promise((resolve) => {\n",
              "    cancel.onclick = () => {\n",
              "      resolve(null);\n",
              "    };\n",
              "  });\n",
              "\n",
              "  // Wait for the user to pick the files.\n",
              "  const files = yield {\n",
              "    promise: Promise.race([pickedPromise, cancelPromise]),\n",
              "    response: {\n",
              "      action: 'starting',\n",
              "    }\n",
              "  };\n",
              "\n",
              "  cancel.remove();\n",
              "\n",
              "  // Disable the input element since further picks are not allowed.\n",
              "  inputElement.disabled = true;\n",
              "\n",
              "  if (!files) {\n",
              "    return {\n",
              "      response: {\n",
              "        action: 'complete',\n",
              "      }\n",
              "    };\n",
              "  }\n",
              "\n",
              "  for (const file of files) {\n",
              "    const li = document.createElement('li');\n",
              "    li.append(span(file.name, {fontWeight: 'bold'}));\n",
              "    li.append(span(\n",
              "        `(${file.type || 'n/a'}) - ${file.size} bytes, ` +\n",
              "        `last modified: ${\n",
              "            file.lastModifiedDate ? file.lastModifiedDate.toLocaleDateString() :\n",
              "                                    'n/a'} - `));\n",
              "    const percent = span('0% done');\n",
              "    li.appendChild(percent);\n",
              "\n",
              "    outputElement.appendChild(li);\n",
              "\n",
              "    const fileDataPromise = new Promise((resolve) => {\n",
              "      const reader = new FileReader();\n",
              "      reader.onload = (e) => {\n",
              "        resolve(e.target.result);\n",
              "      };\n",
              "      reader.readAsArrayBuffer(file);\n",
              "    });\n",
              "    // Wait for the data to be ready.\n",
              "    let fileData = yield {\n",
              "      promise: fileDataPromise,\n",
              "      response: {\n",
              "        action: 'continue',\n",
              "      }\n",
              "    };\n",
              "\n",
              "    // Use a chunked sending to avoid message size limits. See b/62115660.\n",
              "    let position = 0;\n",
              "    do {\n",
              "      const length = Math.min(fileData.byteLength - position, MAX_PAYLOAD_SIZE);\n",
              "      const chunk = new Uint8Array(fileData, position, length);\n",
              "      position += length;\n",
              "\n",
              "      const base64 = btoa(String.fromCharCode.apply(null, chunk));\n",
              "      yield {\n",
              "        response: {\n",
              "          action: 'append',\n",
              "          file: file.name,\n",
              "          data: base64,\n",
              "        },\n",
              "      };\n",
              "\n",
              "      let percentDone = fileData.byteLength === 0 ?\n",
              "          100 :\n",
              "          Math.round((position / fileData.byteLength) * 100);\n",
              "      percent.textContent = `${percentDone}% done`;\n",
              "\n",
              "    } while (position < fileData.byteLength);\n",
              "  }\n",
              "\n",
              "  // All done.\n",
              "  yield {\n",
              "    response: {\n",
              "      action: 'complete',\n",
              "    }\n",
              "  };\n",
              "}\n",
              "\n",
              "scope.google = scope.google || {};\n",
              "scope.google.colab = scope.google.colab || {};\n",
              "scope.google.colab._files = {\n",
              "  _uploadFiles,\n",
              "  _uploadFilesContinue,\n",
              "};\n",
              "})(self);\n",
              "</script> "
            ]
          },
          "metadata": {}
        },
        {
          "output_type": "stream",
          "name": "stdout",
          "text": [
            "Saving Birthdaydata.csv to Birthdaydata (12).csv\n",
            "Saving heap.py to heap (12).py\n",
            "🎂 생일이 느린 순 (나이 적은 순)으로 10명:\n",
            "신수민: 2005-12-30\n",
            "이서영: 2005-12-25\n",
            "강민주: 2005-12-14\n",
            "김민경: 2005-12-02\n",
            "이서영: 2005-11-12\n",
            "배시은: 2005-11-02\n",
            "김여원: 2005-10-31\n",
            "이서진: 2005-10-28\n",
            "서홍빈: 2005-10-24\n",
            "김예빈: 2005-10-19\n"
          ]
        }
      ],
      "source": [
        "from google.colab import files\n",
        "uploaded = files.upload()\n",
        "\n",
        "import importlib.util\n",
        "import sys\n",
        "\n",
        "heap_path = 'heap (11).py'\n",
        "spec = importlib.util.spec_from_file_location(\"heap\", heap_path)\n",
        "heap_module = importlib.util.module_from_spec(spec)\n",
        "sys.modules[\"heap\"] = heap_module\n",
        "spec.loader.exec_module(heap_module)\n",
        "\n",
        "from heap import Heap\n",
        "import csv\n",
        "from datetime import datetime\n",
        "\n",
        "def birth_to_int(birth_raw):\n",
        "    return int(str(int(float(birth_raw))))\n",
        "\n",
        "# 유효한 날짜인지 확인하는 함수\n",
        "def is_valid_date(yyyymmdd_str):\n",
        "    try:\n",
        "        datetime.strptime(yyyymmdd_str, \"%Y%m%d\")\n",
        "        return True\n",
        "    except ValueError:\n",
        "        return False\n",
        "\n",
        "heap = Heap()\n",
        "\n",
        "with open(\"Birthdaydata (11).csv\", newline='', encoding='cp949') as csvfile:\n",
        "    reader = csv.DictReader(csvfile)\n",
        "    for row in reader:\n",
        "        name = row[\"이름\"]\n",
        "        birth_str = row[\"생년월일\"]\n",
        "        if not birth_str.strip():\n",
        "            continue\n",
        "        birth_val = birth_to_int(birth_str)\n",
        "        if is_valid_date(str(birth_val)):\n",
        "            heap.insert((birth_val, name))\n",
        "\n",
        "# 결과 출력\n",
        "print(\"🎂 생일이 느린 순 (나이 적은 순)으로 10명:\")\n",
        "for _ in range(10):\n",
        "    if not heap.isEmpty():\n",
        "        birth_value, name = heap.deleteMax()\n",
        "        birth_fmt = datetime.strptime(str(birth_value), \"%Y%m%d\").strftime(\"%Y-%m-%d\")\n",
        "        print(f\"{name}: {birth_fmt}\")\n"
      ]
    },
    {
      "cell_type": "markdown",
      "source": [
        "# **같은 조의 친구들만 이름과 생년월일을 출력하는 코드**"
      ],
      "metadata": {
        "id": "g6hGV7t2ZrID"
      }
    },
    {
      "cell_type": "code",
      "source": [
        "# 1. 파일 업로드\n",
        "from google.colab import files\n",
        "uploaded = files.upload()\n",
        "\n",
        "# 2. circular doubly linked list 클래스 정의\n",
        "class Node:\n",
        "    def __init__(self, name, birth):\n",
        "        self.name = name\n",
        "        self.birth = birth\n",
        "        self.prev = None\n",
        "        self.next = None\n",
        "\n",
        "class CircularDoublyLinkedList:\n",
        "    def __init__(self):\n",
        "        self.head = None\n",
        "\n",
        "    def insert(self, name, birth):\n",
        "        new_node = Node(name, birth)\n",
        "        if self.head is None:\n",
        "            self.head = new_node\n",
        "            new_node.prev = new_node\n",
        "            new_node.next = new_node\n",
        "        else:\n",
        "            tail = self.head.prev\n",
        "            tail.next = new_node\n",
        "            new_node.prev = tail\n",
        "            new_node.next = self.head\n",
        "            self.head.prev = new_node\n",
        "\n",
        "    def print_team_members(self, team_list):\n",
        "        if self.head is None:\n",
        "            return\n",
        "        current = self.head\n",
        "        printed = set()\n",
        "        print(\"🎯 조원 이름과 생년월일:\")\n",
        "        while True:\n",
        "            if current.name in team_list and current.name not in printed:\n",
        "                birth_fmt = str(int(float(current.birth)))\n",
        "                birth_fmt = f\"{birth_fmt[:4]}-{birth_fmt[4:6]}-{birth_fmt[6:]}\"\n",
        "                print(f\"{current.name}: {birth_fmt}\")\n",
        "                printed.add(current.name)\n",
        "            current = current.next\n",
        "            if current == self.head:\n",
        "                break\n",
        "\n",
        "# 3. 조원 리스트\n",
        "team_members = [\"김정민\", \"이우정\", \"김혜정\", \"남궁수아\", \"신다연\", \"송윤경\", \"정세원\", \"최지안\", \"신지예\"]\n",
        "\n",
        "# 4. 연결 리스트 생성 및 데이터 삽입\n",
        "import csv\n",
        "\n",
        "cdll = CircularDoublyLinkedList()\n",
        "\n",
        "with open(\"Birthdaydata (13).csv\", newline='', encoding='cp949') as csvfile:\n",
        "    reader = csv.DictReader(csvfile)\n",
        "    for row in reader:\n",
        "        name = row[\"이름\"]\n",
        "        birth = row[\"생년월일\"]\n",
        "        if not birth.strip():\n",
        "            continue\n",
        "        cdll.insert(name, birth)\n",
        "\n",
        "# 5. 조원만 출력\n",
        "cdll.print_team_members(team_members)\n",
        "\n"
      ],
      "metadata": {
        "colab": {
          "base_uri": "https://localhost:8080/",
          "height": 225
        },
        "id": "rzwfuLLGOEmA",
        "outputId": "fd516060-19e2-49f5-e237-72fd3177af57"
      },
      "execution_count": 15,
      "outputs": [
        {
          "output_type": "display_data",
          "data": {
            "text/plain": [
              "<IPython.core.display.HTML object>"
            ],
            "text/html": [
              "\n",
              "     <input type=\"file\" id=\"files-2529d651-9e34-4bfe-b1c6-a48a1ef9ce1e\" name=\"files[]\" multiple disabled\n",
              "        style=\"border:none\" />\n",
              "     <output id=\"result-2529d651-9e34-4bfe-b1c6-a48a1ef9ce1e\">\n",
              "      Upload widget is only available when the cell has been executed in the\n",
              "      current browser session. Please rerun this cell to enable.\n",
              "      </output>\n",
              "      <script>// Copyright 2017 Google LLC\n",
              "//\n",
              "// Licensed under the Apache License, Version 2.0 (the \"License\");\n",
              "// you may not use this file except in compliance with the License.\n",
              "// You may obtain a copy of the License at\n",
              "//\n",
              "//      http://www.apache.org/licenses/LICENSE-2.0\n",
              "//\n",
              "// Unless required by applicable law or agreed to in writing, software\n",
              "// distributed under the License is distributed on an \"AS IS\" BASIS,\n",
              "// WITHOUT WARRANTIES OR CONDITIONS OF ANY KIND, either express or implied.\n",
              "// See the License for the specific language governing permissions and\n",
              "// limitations under the License.\n",
              "\n",
              "/**\n",
              " * @fileoverview Helpers for google.colab Python module.\n",
              " */\n",
              "(function(scope) {\n",
              "function span(text, styleAttributes = {}) {\n",
              "  const element = document.createElement('span');\n",
              "  element.textContent = text;\n",
              "  for (const key of Object.keys(styleAttributes)) {\n",
              "    element.style[key] = styleAttributes[key];\n",
              "  }\n",
              "  return element;\n",
              "}\n",
              "\n",
              "// Max number of bytes which will be uploaded at a time.\n",
              "const MAX_PAYLOAD_SIZE = 100 * 1024;\n",
              "\n",
              "function _uploadFiles(inputId, outputId) {\n",
              "  const steps = uploadFilesStep(inputId, outputId);\n",
              "  const outputElement = document.getElementById(outputId);\n",
              "  // Cache steps on the outputElement to make it available for the next call\n",
              "  // to uploadFilesContinue from Python.\n",
              "  outputElement.steps = steps;\n",
              "\n",
              "  return _uploadFilesContinue(outputId);\n",
              "}\n",
              "\n",
              "// This is roughly an async generator (not supported in the browser yet),\n",
              "// where there are multiple asynchronous steps and the Python side is going\n",
              "// to poll for completion of each step.\n",
              "// This uses a Promise to block the python side on completion of each step,\n",
              "// then passes the result of the previous step as the input to the next step.\n",
              "function _uploadFilesContinue(outputId) {\n",
              "  const outputElement = document.getElementById(outputId);\n",
              "  const steps = outputElement.steps;\n",
              "\n",
              "  const next = steps.next(outputElement.lastPromiseValue);\n",
              "  return Promise.resolve(next.value.promise).then((value) => {\n",
              "    // Cache the last promise value to make it available to the next\n",
              "    // step of the generator.\n",
              "    outputElement.lastPromiseValue = value;\n",
              "    return next.value.response;\n",
              "  });\n",
              "}\n",
              "\n",
              "/**\n",
              " * Generator function which is called between each async step of the upload\n",
              " * process.\n",
              " * @param {string} inputId Element ID of the input file picker element.\n",
              " * @param {string} outputId Element ID of the output display.\n",
              " * @return {!Iterable<!Object>} Iterable of next steps.\n",
              " */\n",
              "function* uploadFilesStep(inputId, outputId) {\n",
              "  const inputElement = document.getElementById(inputId);\n",
              "  inputElement.disabled = false;\n",
              "\n",
              "  const outputElement = document.getElementById(outputId);\n",
              "  outputElement.innerHTML = '';\n",
              "\n",
              "  const pickedPromise = new Promise((resolve) => {\n",
              "    inputElement.addEventListener('change', (e) => {\n",
              "      resolve(e.target.files);\n",
              "    });\n",
              "  });\n",
              "\n",
              "  const cancel = document.createElement('button');\n",
              "  inputElement.parentElement.appendChild(cancel);\n",
              "  cancel.textContent = 'Cancel upload';\n",
              "  const cancelPromise = new Promise((resolve) => {\n",
              "    cancel.onclick = () => {\n",
              "      resolve(null);\n",
              "    };\n",
              "  });\n",
              "\n",
              "  // Wait for the user to pick the files.\n",
              "  const files = yield {\n",
              "    promise: Promise.race([pickedPromise, cancelPromise]),\n",
              "    response: {\n",
              "      action: 'starting',\n",
              "    }\n",
              "  };\n",
              "\n",
              "  cancel.remove();\n",
              "\n",
              "  // Disable the input element since further picks are not allowed.\n",
              "  inputElement.disabled = true;\n",
              "\n",
              "  if (!files) {\n",
              "    return {\n",
              "      response: {\n",
              "        action: 'complete',\n",
              "      }\n",
              "    };\n",
              "  }\n",
              "\n",
              "  for (const file of files) {\n",
              "    const li = document.createElement('li');\n",
              "    li.append(span(file.name, {fontWeight: 'bold'}));\n",
              "    li.append(span(\n",
              "        `(${file.type || 'n/a'}) - ${file.size} bytes, ` +\n",
              "        `last modified: ${\n",
              "            file.lastModifiedDate ? file.lastModifiedDate.toLocaleDateString() :\n",
              "                                    'n/a'} - `));\n",
              "    const percent = span('0% done');\n",
              "    li.appendChild(percent);\n",
              "\n",
              "    outputElement.appendChild(li);\n",
              "\n",
              "    const fileDataPromise = new Promise((resolve) => {\n",
              "      const reader = new FileReader();\n",
              "      reader.onload = (e) => {\n",
              "        resolve(e.target.result);\n",
              "      };\n",
              "      reader.readAsArrayBuffer(file);\n",
              "    });\n",
              "    // Wait for the data to be ready.\n",
              "    let fileData = yield {\n",
              "      promise: fileDataPromise,\n",
              "      response: {\n",
              "        action: 'continue',\n",
              "      }\n",
              "    };\n",
              "\n",
              "    // Use a chunked sending to avoid message size limits. See b/62115660.\n",
              "    let position = 0;\n",
              "    do {\n",
              "      const length = Math.min(fileData.byteLength - position, MAX_PAYLOAD_SIZE);\n",
              "      const chunk = new Uint8Array(fileData, position, length);\n",
              "      position += length;\n",
              "\n",
              "      const base64 = btoa(String.fromCharCode.apply(null, chunk));\n",
              "      yield {\n",
              "        response: {\n",
              "          action: 'append',\n",
              "          file: file.name,\n",
              "          data: base64,\n",
              "        },\n",
              "      };\n",
              "\n",
              "      let percentDone = fileData.byteLength === 0 ?\n",
              "          100 :\n",
              "          Math.round((position / fileData.byteLength) * 100);\n",
              "      percent.textContent = `${percentDone}% done`;\n",
              "\n",
              "    } while (position < fileData.byteLength);\n",
              "  }\n",
              "\n",
              "  // All done.\n",
              "  yield {\n",
              "    response: {\n",
              "      action: 'complete',\n",
              "    }\n",
              "  };\n",
              "}\n",
              "\n",
              "scope.google = scope.google || {};\n",
              "scope.google.colab = scope.google.colab || {};\n",
              "scope.google.colab._files = {\n",
              "  _uploadFiles,\n",
              "  _uploadFilesContinue,\n",
              "};\n",
              "})(self);\n",
              "</script> "
            ]
          },
          "metadata": {}
        },
        {
          "output_type": "stream",
          "name": "stdout",
          "text": [
            "Saving Birthdaydata.csv to Birthdaydata (14).csv\n",
            "🎯 조원 이름과 생년월일:\n",
            "김정민: 2005-04-22\n",
            "김혜정: 2005-05-01\n",
            "남궁수아: 2005-03-25\n",
            "신다연: 2004-12-06\n",
            "신지예: 2004-07-07\n",
            "이우정: 2002-03-24\n",
            "정세원: 2004-11-21\n"
          ]
        }
      ]
    },
    {
      "cell_type": "markdown",
      "source": [
        "# **교재 8장**"
      ],
      "metadata": {
        "id": "LAtIKFLnZ0mq"
      }
    },
    {
      "cell_type": "markdown",
      "source": [
        "**1번**"
      ],
      "metadata": {
        "id": "zySaO49TZ5ma"
      }
    },
    {
      "cell_type": "markdown",
      "source": [
        "답 : 가질 수 있음."
      ],
      "metadata": {
        "id": "-VEbryhyxE8Q"
      }
    },
    {
      "cell_type": "markdown",
      "source": [
        "**2번**"
      ],
      "metadata": {
        "id": "jCAwb8RmxNbA"
      }
    },
    {
      "cell_type": "markdown",
      "source": [
        "답 : 항상은 아니다"
      ],
      "metadata": {
        "id": "qjgx1mCIxR4I"
      }
    },
    {
      "cell_type": "markdown",
      "source": [
        "**3번**"
      ],
      "metadata": {
        "id": "cKE4RyXPxYo5"
      }
    },
    {
      "cell_type": "markdown",
      "source": [
        "답 : n/2개"
      ],
      "metadata": {
        "id": "-LoegSC3xaEI"
      }
    },
    {
      "cell_type": "markdown",
      "source": [
        "**4번**"
      ],
      "metadata": {
        "id": "J6Zo44Dexdsw"
      }
    },
    {
      "cell_type": "markdown",
      "source": [
        "답 : 최악 - O(log n) / 최선 - O(1)"
      ],
      "metadata": {
        "id": "fLUu9lW_xfXw"
      }
    },
    {
      "cell_type": "markdown",
      "source": [
        "**5번**"
      ],
      "metadata": {
        "id": "Pb_MNeeYxnNw"
      }
    },
    {
      "cell_type": "markdown",
      "source": [
        "맨 마지막 원소는 pop()으로 바로 연산 가능하기에 따로 정렬을 할 필요가 없다. 그렇기에 간단한 일이다.\n",
        "\n",
        "답 : 간단한 일이다"
      ],
      "metadata": {
        "id": "0b27q417x8XA"
      }
    },
    {
      "cell_type": "markdown",
      "source": [
        "**6번**"
      ],
      "metadata": {
        "id": "CLfTOrv7x9BY"
      }
    },
    {
      "cell_type": "markdown",
      "source": [
        "기본 방식이 아래에서 위로 올라가며 처리하는 것이기에 O(n)인 반면, 아래로 스며 내리는 방식은 O(n log n)에 처리하기에 오히려 효율성이 떨어지게 된다.\n",
        "\n",
        "답 : 본문에 제시한 방식이 더 효율적이다"
      ],
      "metadata": {
        "id": "CQ4-RBNIyDc_"
      }
    },
    {
      "cell_type": "markdown",
      "source": [
        "**7번**"
      ],
      "metadata": {
        "id": "7Cn-MABvyeZ3"
      }
    },
    {
      "cell_type": "markdown",
      "source": [
        "해당 노드의 값이 커졌다면 부모와 비교한다. 이후 스며오르기 방식을 수행해서 부모보다 크면 교환을 하고 이를 추트에 도달하거나 더 이상 교환이 없을 때까지 반복한다."
      ],
      "metadata": {
        "id": "79NOEjIbyfno"
      }
    },
    {
      "cell_type": "markdown",
      "source": [
        "# **LeetCode 703번 – Kth Largest Element in a Stream**"
      ],
      "metadata": {
        "id": "Q4HzCSv2X6e8"
      }
    },
    {
      "cell_type": "code",
      "source": [
        "import heapq\n",
        "\n",
        "class KthLargest(object):\n",
        "\n",
        "    def __init__(self, k, nums):\n",
        "        \"\"\"\n",
        "        :type k: int\n",
        "        :type nums: List[int]\n",
        "        \"\"\"\n",
        "        self.k = k\n",
        "        self.heap = nums\n",
        "        heapq.heapify(self.heap)\n",
        "        while len(self.heap) > k:\n",
        "            heapq.heappop(self.heap)\n",
        "\n",
        "    def add(self, val):\n",
        "        \"\"\"\n",
        "        :type val: int\n",
        "        :rtype: int\n",
        "        \"\"\"\n",
        "        heapq.heappush(self.heap, val)\n",
        "        if len(self.heap) > self.k:\n",
        "            heapq.heappop(self.heap)\n",
        "        return self.heap[0]\n",
        "\n",
        "\n",
        "\n",
        "\n",
        "# Your KthLargest object will be instantiated and called as such:\n",
        "# obj = KthLargest(k, nums)\n",
        "# param_1 = obj.add(val)"
      ],
      "metadata": {
        "id": "YsZSWdNgX927"
      },
      "execution_count": 16,
      "outputs": []
    }
  ]
}